{
 "cells": [
  {
   "cell_type": "code",
   "execution_count": 1,
   "metadata": {
    "collapsed": true
   },
   "outputs": [],
   "source": [
    "import numpy as np\n",
    "import h5py\n",
    "from mpl_toolkits.basemap import Basemap\n",
    "import matplotlib.pyplot as plt"
   ]
  },
  {
   "cell_type": "code",
   "execution_count": 2,
   "metadata": {
    "collapsed": true
   },
   "outputs": [],
   "source": [
    "fileDataX = h5py.File('./../data/dataX_1-1188_idxPsiRec_22_23_idxPhiRec_1_21.mat','r')    \n",
    "xdata = np.array(fileDataX['x'])\n",
    "\n",
    "long = [0, 360]\n",
    "lat = [-15, 15]\n",
    "\n",
    "cmin = - int(round(max(abs(xdata.flatten()))))\n",
    "cmax = int(round(max(abs(xdata.flatten()))))\n",
    "cint = int(round((cmax - cmin) / 11))"
   ]
  },
  {
   "cell_type": "code",
   "execution_count": 13,
   "metadata": {
    "collapsed": true
   },
   "outputs": [],
   "source": [
    "for i in range(xdata.shape[0]):\n",
    "\n",
    "    fig = plt.figure(figsize=(14,3))\n",
    "    ax = plt.subplot(111)\n",
    " \n",
    "    plt.rc('text', usetex = True)\n",
    "    plt.rc('font', family = 'serif')\n",
    "\n",
    "    map = Basemap(projection = 'cyl', llcrnrlat = lat[0], llcrnrlon = long[0], urcrnrlat = lat[1], urcrnrlon = long[1])\n",
    "    map.drawcoastlines()\n",
    "    map.drawparallels( np.arange(-10,10.01,10.0), labels = [1,0,0,0], fontsize = 12, linewidth = 0)\n",
    "    map.drawmeridians( np.arange(0.,360.,20.), labels = [0,0,0,1], fontsize = 12, linewidth = 0)\n",
    "\n",
    "    h = map.imshow(np.transpose(xdata[i,:].reshape(360,31)), cmap = 'RdBu_r', interpolation = 'spline16', animated = True)\n",
    "    cbar = map.colorbar(h, \"bottom\", size=\"10%\", pad=\"40%\", ticks = range(cmin, cmax + 1, cint))\n",
    "    plt.clim(cmin, cmax)\n",
    "    cbar.ax.tick_params(labelsize=12)\n",
    "    cbar.set_label('Degrees C', fontsize = 14)\n",
    " \n",
    "    #plt.show()\n",
    "    filename = \"./../output/movieFrames/clausIdxPsiRec2223/idxPhiRec_1_21/frame_\" + str(i).zfill(4) + \".jpg\"\n",
    "    fig.savefig(filename)\n",
    "    plt.close()"
   ]
  },
  {
   "cell_type": "code",
   "execution_count": null,
   "metadata": {
    "collapsed": true
   },
   "outputs": [],
   "source": []
  }
 ],
 "metadata": {
  "kernelspec": {
   "display_name": "Python 3",
   "language": "python",
   "name": "python3"
  },
  "language_info": {
   "codemirror_mode": {
    "name": "ipython",
    "version": 3
   },
   "file_extension": ".py",
   "mimetype": "text/x-python",
   "name": "python",
   "nbconvert_exporter": "python",
   "pygments_lexer": "ipython3",
   "version": "3.6.3"
  }
 },
 "nbformat": 4,
 "nbformat_minor": 2
}
